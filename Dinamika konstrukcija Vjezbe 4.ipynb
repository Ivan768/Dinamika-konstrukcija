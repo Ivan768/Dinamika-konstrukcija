{
 "cells": [
  {
   "cell_type": "markdown",
   "metadata": {},
   "source": [
    "# Dinamika konstrukcija\n",
    "## Vježbe 4: Modalna analiza u programskome jeziku Python za prisilne neprigušene oscilacije sistema s više stupnjeva slobode \n",
    "### Sveučilišni diplomski - Ljetni semestar akademske godine 2020/2021"
   ]
  },
  {
   "cell_type": "markdown",
   "metadata": {},
   "source": [
    "Predavač: Ivan Hlača;\n",
    "email: ivan.hlaca@uniri.hr;\n",
    "soba G-338"
   ]
  },
  {
   "cell_type": "markdown",
   "metadata": {},
   "source": [
    "#### Rubni uvjeti - nastavak Vjezbi 3\n",
    "\n",
    "Parametri gibanja **slobodnog** neprigušenog sistema s više stupnjeva slobode se izračunaju uvrštavanjem rubnih uvjeta $u_0$ i $v_0$ u sljedeće jednadžbe:\n",
    "\n",
    "$$ A = \\Phi^{-1} u_0 \\tag{1}$$\n",
    "$$ B = \\Omega^{-1} \\Phi^{-1} v_0 \\tag{2}$$\n",
    "\n",
    "Traženje inverza matrice $\\Phi$ je računalno zahtjevna operacija. Množenjem jednadžbi slijeva s $\\Phi^T m$ izvedu se sljedeći izrazi:\n",
    "\n",
    "$$ A_i = \\frac{\\phi_i^T m u_0} {M_i} = q_n(0) \\tag{3}$$\n",
    "$$ B_i = \\frac{\\phi_i^T m v_0} {\\omega_i M_i} = \\dot{q_n}(0) \\tag{4}$$\n",
    "\n",
    "koji su u matričnom obliku prije pojednostavljenja glasili:\n",
    "\n",
    "$$ A = M^{-1} \\Phi^T m u_0 \\tag{5}$$\n",
    "$$ B = \\Omega^{-1} M^{-1} \\Phi^T m v_0 \\tag{6}$$\n",
    "\n",
    "gdje je $\\Omega$ spektralna matrica, $\\Phi$ modalna matrica, a dijagonalna matrica masa $M=\\phi^T m \\phi$. \n",
    "Inverz dijagonalne matrice s dijagonalnim članovima $M_i$ je jednostavno pronaći:\n",
    "\n",
    "$$ M = \n",
    "\\begin{bmatrix}\n",
    "M_1 & 0\\\\\n",
    "0 & M_2\n",
    "\\end{bmatrix}$$\n",
    "\n",
    "$$ M^{-1} = \n",
    "\\begin{bmatrix}\n",
    "1/M_1 & 0\\\\\n",
    "0 & 1/M_2\n",
    "\\end{bmatrix}$$"
   ]
  },
  {
   "cell_type": "markdown",
   "metadata": {},
   "source": [
    "#### Primjer 2.\n",
    "\n",
    "Razmatra se primjer Example 10.11 iz knjige Dynamics of Structures (Chopra) koji se nastavlja na Primjer 1. (Example 10.4).\n",
    "\n",
    "<img src=\"https://raw.githubusercontent.com/Ivan768/Dinamika-konstrukcija/main/Primjer_10_4.png\">\n",
    "\n",
    "Dani su sljedeći rubni uvjeti:\n",
    "$u(t=0) = \n",
    "\\begin{bmatrix}\n",
    "-0.5 \\\\\n",
    "2 \n",
    "\\end{bmatrix}$"
   ]
  },
  {
   "cell_type": "code",
   "execution_count": 1,
   "metadata": {},
   "outputs": [],
   "source": [
    "#import modula\n",
    "import matplotlib.pyplot as plt\n",
    "import numpy as np\n",
    "from scipy.linalg import eigh"
   ]
  },
  {
   "cell_type": "code",
   "execution_count": 2,
   "metadata": {},
   "outputs": [],
   "source": [
    "#ponavljanje postupka s Vjezbi 3\n",
    "m = 50000. #masa u primjeru\n",
    "k = 112500. #krutost u primjeru\n",
    "m_matrica = m * np.array([[2,0],[0,1]])\n",
    "k_matrica = k * np.array([[3,-1],[-1,1]])\n",
    "\n",
    "w , v = eigh(k_matrica,m_matrica)"
   ]
  },
  {
   "cell_type": "code",
   "execution_count": 3,
   "metadata": {},
   "outputs": [],
   "source": [
    "#vlastite frekvencije\n",
    "omega = np.sqrt(w)\n",
    "spektralna = np.diag(omega) #diag za dijagonalnu matricu"
   ]
  },
  {
   "cell_type": "code",
   "execution_count": 4,
   "metadata": {},
   "outputs": [],
   "source": [
    "#vlastiti oblici\n",
    "phi_1 = v[:,0]/v[1,0] \n",
    "phi_2 = v[:,1]/v[1,1]\n",
    "\n",
    "modalna = np.array([phi_1,phi_2]).T "
   ]
  },
  {
   "cell_type": "code",
   "execution_count": 5,
   "metadata": {},
   "outputs": [],
   "source": [
    "#rubni uvjeti\n",
    "u0 = np.array([-0.5,2])\n",
    "v0 = np.array([0,0]) #brzina nije zadana jer brzine nema v0=0"
   ]
  },
  {
   "cell_type": "markdown",
   "metadata": {},
   "source": [
    "##### Uvrštavanje rubnih uvjeta na 1. način - izravno iz jednadžbi (1) & (2)\n",
    "\n",
    "$$ A = \\Phi^{-1} u_0 \\tag{1}$$\n",
    "$$ B = \\Omega^{-1} \\Phi^{-1} v_0 \\tag{2}$$"
   ]
  },
  {
   "cell_type": "code",
   "execution_count": 6,
   "metadata": {},
   "outputs": [],
   "source": [
    "spektralna_inv = np.linalg.inv(spektralna)\n",
    "modalna_inv = np.linalg.inv(modalna)"
   ]
  },
  {
   "cell_type": "code",
   "execution_count": 7,
   "metadata": {},
   "outputs": [
    {
     "name": "stdout",
     "output_type": "stream",
     "text": [
      "[1. 1.] [0. 0.]\n"
     ]
    }
   ],
   "source": [
    "A = modalna_inv.dot(u0)\n",
    "B = np.dot(spektralna_inv,modalna_inv).dot(v0)\n",
    "print(A,B)"
   ]
  },
  {
   "cell_type": "markdown",
   "metadata": {},
   "source": [
    "##### Uvrštavanje rubnih uvjeta na 2. način - iz jednadžbi (3) & (4)\n",
    "\n",
    "$$ A_i = \\frac{\\phi_i^T m u_0} {M_i} = q_n(0) \\tag{3}$$\n",
    "$$ B_i = \\frac{\\phi_i^T m v_0} {\\omega_i M_i} = \\dot{q_n}(0) \\tag{4}$$"
   ]
  },
  {
   "cell_type": "code",
   "execution_count": 8,
   "metadata": {},
   "outputs": [
    {
     "data": {
      "text/plain": [
       "array([[ 75000.,      0.],\n",
       "       [     0., 150000.]])"
      ]
     },
     "execution_count": 8,
     "metadata": {},
     "output_type": "execute_result"
    }
   ],
   "source": [
    "M = np.dot(modalna.T,m_matrica).dot(modalna)\n",
    "M #dijagonalna matrica"
   ]
  },
  {
   "cell_type": "code",
   "execution_count": 9,
   "metadata": {},
   "outputs": [
    {
     "name": "stdout",
     "output_type": "stream",
     "text": [
      "[1. 1.] [0. 0.]\n"
     ]
    }
   ],
   "source": [
    "n = 2 #broj stupnjeva slobode\n",
    "A = np.zeros(n) #inicijalizacija\n",
    "B = np.zeros(n) #inicijalizacija\n",
    "for i in range(n):\n",
    "    A[i] = np.linalg.multi_dot([modalna[:,i].T, m_matrica, u0]) / M[i,i]\n",
    "    B[i] = np.linalg.multi_dot([modalna[:,i].T, m_matrica, v0]) / (omega[i]*M[i,i])\n",
    "print(A,B)"
   ]
  },
  {
   "cell_type": "markdown",
   "metadata": {},
   "source": [
    "#### Rješenje pomaka (transformacija iz modalnih u stvarne koordinate)\n",
    "\n",
    "$$ u = \\Phi q \\tag{1}$$\n",
    "\n",
    "$$ u = \\Phi (A \\cos{\\omega t} + B \\sin{\\omega t}) \\tag{2}$$\n",
    "\n",
    "$$ u_i  = \\sum_{i=1}^{n} \\phi_i (A_i \\cos \\omega_i t + B_i \\sin \\omega_i t) \\tag{3}$$\n",
    "\n",
    "Koristiti će se izraz (2) za dobivanje pomaka tj. za transformaciju iz modalnih u stvarne koordinate:"
   ]
  },
  {
   "cell_type": "code",
   "execution_count": 10,
   "metadata": {
    "scrolled": true
   },
   "outputs": [
    {
     "data": {
      "image/png": "[encoded data removed]",
      "text/plain": [
       "<Figure size 432x288 with 1 Axes>"
      ]
     },
     "metadata": {
      "needs_background": "light"
     },
     "output_type": "display_data"
    }
   ],
   "source": [
    "def pomaci(t):\n",
    "    zagrada = A*(np.cos(omega*t)) + B*(np.sin(omega*t))\n",
    "    u = modalna.dot(zagrada)\n",
    "    return u\n",
    "\n",
    "vrijeme = np.arange(0,15,0.01)\n",
    "pomak_1 = np.zeros(len(vrijeme)) #inicijalizacija\n",
    "pomak_2 = np.zeros(len(vrijeme)) #inicijalizacija\n",
    "for i,j in enumerate(vrijeme): #ukljuciti red ispod za razumijevanje enumerate\n",
    "    #print(i,j) #test\n",
    "    pomak_1[i] = pomaci(j)[0]\n",
    "    pomak_2[i] = pomaci(j)[1]\n",
    "    \n",
    "plt.plot(vrijeme,pomak_1,label='1. stupanj slobode')\n",
    "plt.plot(vrijeme,pomak_2,label='2. stupanj slobode')\n",
    "plt.legend()\n",
    "plt.grid()\n",
    "plt.show()"
   ]
  },
  {
   "cell_type": "markdown",
   "metadata": {},
   "source": [
    "Alternativno, ako se koristi izraz (3) za dobivanje pomaka tj. za transformaciju iz modalnih u stvarne koordinate:"
   ]
  },
  {
   "cell_type": "code",
   "execution_count": 11,
   "metadata": {},
   "outputs": [],
   "source": [
    "def pomaci_alternativa(t):\n",
    "    q = np.zeros(n)\n",
    "    for i in range(n):\n",
    "        q[i] = A[i]*np.cos(omega[i]*t)+B[i]*np.sin(omega[i]*t)\n",
    "    return modalna.dot(q)"
   ]
  },
  {
   "cell_type": "code",
   "execution_count": 12,
   "metadata": {},
   "outputs": [
    {
     "data": {
      "text/plain": [
       "array([-1.49633168, -0.00244511])"
      ]
     },
     "execution_count": 12,
     "metadata": {},
     "output_type": "execute_result"
    }
   ],
   "source": [
    "pomaci(3) #test"
   ]
  },
  {
   "cell_type": "code",
   "execution_count": 13,
   "metadata": {},
   "outputs": [
    {
     "data": {
      "text/plain": [
       "array([-1.49633168, -0.00244511])"
      ]
     },
     "execution_count": 13,
     "metadata": {},
     "output_type": "execute_result"
    }
   ],
   "source": [
    "pomaci_alternativa(3) #test"
   ]
  },
  {
   "cell_type": "markdown",
   "metadata": {},
   "source": [
    "### Prisilne neprigušene oscilacije sistema s više stupnjeva slobode \n",
    "\n",
    "U jednadžbe gibanja se uvodi poremećajna sila $f(t)$:\n",
    "\n",
    "$$m \\ddot u + k u = f(t) \\tag{1}$$\n",
    "\n",
    "Ranije objašnjeni postupci za slobodne neprigušene oscilacije s više stupnjeva slobode se provode i za ovaj problem:\n",
    "- iz determinante se pronađu vlastite vrijednosti $\\omega_i$\n",
    "- iz vlastitih vrijednosti se izračunaju vlastiti oblici $\\phi$ (ova dva koraka se naprave naredbom *eigh*)\n",
    "- iz početnih uvjeta se dobiju konstante $A,B$ koje se pojavljuju u izrazu za $q$\n",
    "\n",
    "Jednadžba (1) se u modalnim koordinatama može napisati na sljedeći način:\n",
    "\n",
    "$$ M \\ddot q + K q = F(t) \\tag{2}$$\n",
    "\n",
    "gdje je $F(t)= \\Phi^T f(t)$.\n",
    "\n",
    "**Kada je poremećajna sila $f(t) = f_0 \\sin \\Omega t$ tj. harmonijska funkcija i kad djeluje na samo jedan od više stupnjeva slobode (kao u Primjeru 3. ispod), onda je rješenje jednadžbe (2) u modalnim koordinatama:**\n",
    "\n",
    "$$ q_i(t) = A \\cos \\omega_i t + B \\sin \\omega_i t + \n",
    "\\frac{\\Phi_{ik} f_0 / K_i}{1-(\\Omega/\\omega_i)^2} (\\sin \\Omega t - \\frac{\\Omega}{\\omega_i} \\sin \\omega_i t) \\tag{3}$$\n",
    "\n",
    "\n",
    "gdje se prva dva člana zovu homogenim dijelom rješenja (poznato iz dosad obrađenog gradiva), a zadnji član se zove partikularno rješenje. Opći izraz za partikularno rješenje (kada poremećajne sile djeluju na više stupnjeva slobode) je sličan gornjem, ali se radi o sumi takvih članova:\n",
    "\n",
    "$$ q_{i,partikularno}(t) = \\sum_{j=1}^{n} \\frac{\\Phi_{ij} f_{0j} / K_i}{1-(\\Omega_{j}/\\omega_i)^2} (\\sin \\Omega_{j} t - \\frac{\\Omega_j}{\\omega_i} \\sin \\omega_i t) \\tag{4}$$"
   ]
  },
  {
   "cell_type": "markdown",
   "metadata": {},
   "source": [
    "#### Primjer 3.\n",
    "\n",
    "Razmatra se primjer Example 12.1 iz knjige Dynamics of Structures (Chopra) koji se nastavlja na Primjer 1. i Primjer 2. (Example 10.4 & 10.11).   \n",
    "\n",
    "<img src=\"https://raw.githubusercontent.com/Ivan768/Dinamika-konstrukcija/main/Primjer_12_1.png\">"
   ]
  },
  {
   "cell_type": "code",
   "execution_count": 14,
   "metadata": {},
   "outputs": [],
   "source": [
    "#ranije su zadani ulazni parametri m i k te njihove matrice"
   ]
  },
  {
   "cell_type": "markdown",
   "metadata": {},
   "source": [
    "Poremećajna sila $f(t) = f_0 \\sin{\\Omega t} $ je prikazana u nastavku."
   ]
  },
  {
   "cell_type": "code",
   "execution_count": 15,
   "metadata": {},
   "outputs": [
    {
     "data": {
      "image/png": "[encoded data removed]",
      "text/plain": [
       "<Figure size 432x288 with 1 Axes>"
      ]
     },
     "metadata": {
      "needs_background": "light"
     },
     "output_type": "display_data"
    }
   ],
   "source": [
    "f0 = 10**5 #amplituda poremećajne sile\n",
    "omega_pobude = 1.0 # 2pi / period pobude; PAZI ista oznaka kao spektralna matrica\n",
    "def sila(t):\n",
    "    return f0*np.sin(omega_pobude*t)\n",
    "vrijeme = np.arange(0,15,0.01)\n",
    "plt.plot(vrijeme,sila(vrijeme))\n",
    "plt.grid()"
   ]
  },
  {
   "cell_type": "code",
   "execution_count": 16,
   "metadata": {},
   "outputs": [
    {
     "data": {
      "text/plain": [
       "array([[ 8.43750000e+04, -2.18278728e-11],\n",
       "       [-5.82076609e-11,  6.75000000e+05]])"
      ]
     },
     "execution_count": 16,
     "metadata": {},
     "output_type": "execute_result"
    }
   ],
   "source": [
    "K = np.dot(modalna.T,k_matrica).dot(modalna)\n",
    "K #dijagonalna matrica"
   ]
  },
  {
   "cell_type": "markdown",
   "metadata": {},
   "source": [
    "Definiranje funkcije *q(t)* u kodu ispod prema jednadžbi (3) je zahtjevno jer postoji puno prilika za napraviti grešku i onda je često nije lako pronaći. Homogeni dio rješenja je ranije definiran funkcijom *pomaci_alternativa* pa je taj dio odrađen te ga samo treba preuzeti, ali za partikularni dio rješenja uputno je raditi korak po korak s testiranjem svakog koraka u zasebnoj funkciji. Npr. dio u funkciji koji se odnosi na zagradu je dobro prvo testirati u zasebnoj funkciji *zagrada(t)* koja se onda pozove za neko proizvoljno vrijeme kao $t=3$ kako bi se vidjelo postoji li greška u smislu bug-a ili u smislu nesmislenih rezultata (rješenje bi trebalo imati jednak broj članova broju stupnjeva slobode)."
   ]
  },
  {
   "cell_type": "code",
   "execution_count": 17,
   "metadata": {},
   "outputs": [],
   "source": [
    "def q(t):\n",
    "    k = 0 #stupanj slobode na kojem sila djeluje, 0 je prvi stupanj slobode\n",
    "    n = 2 #broj stupnjeva slobode\n",
    "    homogeno = np.zeros(n)\n",
    "    part = np.zeros(n)\n",
    "    for i in range(n):\n",
    "        #homogeni dio rjesenja je identican kao u zadnjem zadatku\n",
    "        homogeno[i] = A[i]*np.cos(omega[i]*t)+B[i]*np.sin(omega[i]*t)\n",
    "        #partikularni dio rjesenja (3. clan u jedn. 3)\n",
    "        zagrada = np.sin(omega_pobude*t) - (omega_pobude/omega[i]) * np.sin(omega[i]*t)\n",
    "        part[i]= ((modalna[i,k]*f0/K[i,i]) / (1-(omega_pobude/omega[i])**2)) * zagrada\n",
    "    return homogeno+part"
   ]
  },
  {
   "cell_type": "code",
   "execution_count": 18,
   "metadata": {},
   "outputs": [
    {
     "data": {
      "text/plain": [
       "array([[1.06066017, 0.        ],\n",
       "       [0.        , 2.12132034]])"
      ]
     },
     "execution_count": 18,
     "metadata": {},
     "output_type": "execute_result"
    }
   ],
   "source": [
    "spektralna #prikaz vlastitih vrijednosti"
   ]
  },
  {
   "cell_type": "code",
   "execution_count": 19,
   "metadata": {
    "scrolled": true
   },
   "outputs": [
    {
     "data": {
      "image/png": "[encoded data removed]",
      "text/plain": [
       "<Figure size 432x288 with 1 Axes>"
      ]
     },
     "metadata": {
      "needs_background": "light"
     },
     "output_type": "display_data"
    }
   ],
   "source": [
    "f0 = +10**5\n",
    "omega_pobude = 1.06 #*2\n",
    "vrijeme = np.arange(0,15,0.01)\n",
    "pomak_1 = np.zeros(len(vrijeme)) #inicijalizacija\n",
    "pomak_2 = np.zeros(len(vrijeme)) #inicijalizacija\n",
    "for i,j in enumerate(vrijeme):\n",
    "    pomak_1[i] = modalna.dot(q(j))[0]\n",
    "    pomak_2[i] = modalna.dot(q(j))[1]\n",
    "plt.plot(vrijeme,pomak_1,label='1. stupanj slobode')\n",
    "plt.plot(vrijeme,pomak_2,label='2. stupanj slobode')\n",
    "plt.legend()\n",
    "plt.grid()\n",
    "plt.show()"
   ]
  },
  {
   "cell_type": "markdown",
   "metadata": {},
   "source": [
    "Isprobati sljedeće na zadnjem inputu:\n",
    "- promijeniti varijablu vrijeme tj. $t$ kako bi se vidjelo dolazi li kasnije do rezonance\n",
    "- promijeniti varijablu omega_pobude tj. $\\Omega$ kako bi se pronašao II. ton\n",
    "- promijeniti predznak amplitude f0 tj. $f_0$\n",
    "- promijeniti mjesto sile tako da se promijeni $k$ u funkciji $q(t)$\n",
    "- promijeniti početne uvjete odnosno parametre $A,B$\n",
    "- promijeniti varijablu vrijeme tj. $t$ i varijablu omega_pobude tj. $\\Omega$ kako bi se vidjelo dolazi li do podrhtavanja (pulsiranja) kod homogenih početnih uvjeta, period podrhtavanja $T_D/2 = \\frac {2\\pi} {\\Omega - \\omega}$... podrhtavanje će se vidjeti za $\\Omega=1$, $t=100$\n",
    "\n",
    "Neki od gornjih primjera se mogu napraviti jednostavno unutar funkcije.   \n",
    "*def proba(t,omega_pobude,f0):\n",
    "    ....*"
   ]
  },
  {
   "cell_type": "markdown",
   "metadata": {},
   "source": [
    "##### Usporedba s rješenjem iz literature za Primjer 3.\n",
    "\n",
    "Početni uvjeti pomaka $u_0$ i brzine $v_0$ odnosno problem ima tzv. homogene početne uvjete. Za takve početne uvjete će gibanje biti opisano partikularnim dijelom rješenja jer su konstante $A,B$ jednake $0$."
   ]
  },
  {
   "cell_type": "code",
   "execution_count": 20,
   "metadata": {},
   "outputs": [],
   "source": [
    "#A = np.array([0.,0.])\n",
    "#B = np.array([0.,0.])\n",
    "#vrijeme = np.arange(0,100,1)\n",
    "#x = np.arange(0,spektralna[0,0]*3,0.01) #domena omega pobude\n",
    "#y = np.zeros(len(x))\n",
    "#for i,pobuda in enumerate(x):\n",
    "#    maks = 0\n",
    "#    omega_pobude = pobuda\n",
    "#    for j in vrijeme:\n",
    "#        pomak_1 = modalna.dot(q(j))[0] \n",
    "#        if pomak_1 > maks:\n",
    "#            maks = pomak_1\n",
    "#    y[i] = maks\n",
    "#plt.plot(x,y/(f0/2/k))\n",
    "#plt.ylim(0,10)\n",
    "#plt.grid()"
   ]
  }
 ],
 "metadata": {
  "kernelspec": {
   "display_name": "Python 3",
   "language": "python",
   "name": "python3"
  },
  "language_info": {
   "codemirror_mode": {
    "name": "ipython",
    "version": 3
   },
   "file_extension": ".py",
   "mimetype": "text/x-python",
   "name": "python",
   "nbconvert_exporter": "python",
   "pygments_lexer": "ipython3",
   "version": "3.7.1"
  }
 },
 "nbformat": 4,
 "nbformat_minor": 2
}
