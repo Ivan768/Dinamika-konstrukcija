{
 "cells": [
  {
   "cell_type": "markdown",
   "metadata": {},
   "source": [
    "# Dinamika konstrukcija: Instaliranje, pokretanje i osnovne operacije u programskome jeziku Python, slobodne neprigušene oscilacije materijalne čestice\n",
    "Sveučilišni diplomski - Ljetni semestar akademske godine 2020/2021  \n",
    "Predavač: Ivan Hlača  \n",
    "email: ivan.hlaca@uniri.hr  \n",
    "soba G-338"
   ]
  },
  {
   "cell_type": "markdown",
   "metadata": {},
   "source": [
    "### Instaliranje i pokretanje  \n",
    "U informatičkom kabinetu G-109 je instaliran Python i dovoljno je pronaći na Desktopu ili Startu ikonu od Spyder-a."
   ]
  },
  {
   "cell_type": "markdown",
   "metadata": {},
   "source": [
    "### Plotanje funkcija"
   ]
  },
  {
   "cell_type": "markdown",
   "metadata": {},
   "source": [
    "Plotanje odnosno crtanje funkcija je moguće nakon uvođenja modula *matplotlib.pyplot* koji će se u nastavku skraćeno pozivati kao *plt*. Nacrtati će se kvadratna funkcija pomoću tri parametra: a, b i c."
   ]
  },
  {
   "cell_type": "code",
   "execution_count": 1,
   "metadata": {},
   "outputs": [],
   "source": [
    "import matplotlib.pyplot as plt"
   ]
  },
  {
   "cell_type": "code",
   "execution_count": 2,
   "metadata": {},
   "outputs": [],
   "source": [
    "def kvadratna_funkcija(x):\n",
    "    return a*x*x + b*x + c"
   ]
  },
  {
   "cell_type": "code",
   "execution_count": 3,
   "metadata": {},
   "outputs": [
    {
     "data": {
      "text/plain": [
       "98.5"
      ]
     },
     "execution_count": 3,
     "metadata": {},
     "output_type": "execute_result"
    }
   ],
   "source": [
    "a = 1.7\n",
    "b = -7.5\n",
    "c = 3.5\n",
    "#tek nakon zadavanja parametara a, b i c se moze pozvati kvadratna_funkcija\n",
    "kvadratna_funkcija(10) #vrijednost funkcije za x=10"
   ]
  },
  {
   "cell_type": "markdown",
   "metadata": {},
   "source": [
    "Kvadratna funkcija $y=f(x)=a*x^2+b*x+c$ će se nacrtati za 100 parova točaka $(x,y)$ unutar domene $x=[0,10⟩$. "
   ]
  },
  {
   "cell_type": "code",
   "execution_count": 4,
   "metadata": {},
   "outputs": [],
   "source": [
    "x = [] #prazna lista\n",
    "y = [] #prazna lista\n",
    "for i in range(100):\n",
    "    x.append(i*0.1) #dodavanje clanova listi\n",
    "    y.append(kvadratna_funkcija(i*0.1)) #dodavanje clanova listi"
   ]
  },
  {
   "cell_type": "code",
   "execution_count": 5,
   "metadata": {},
   "outputs": [
    {
     "data": {
      "text/plain": [
       "[3.5,\n",
       " 2.767,\n",
       " 2.068,\n",
       " 1.4029999999999996,\n",
       " 0.7720000000000002,\n",
       " 0.17499999999999982,\n",
       " -0.3880000000000008,\n",
       " -0.9170000000000007]"
      ]
     },
     "execution_count": 5,
     "metadata": {},
     "output_type": "execute_result"
    }
   ],
   "source": [
    "y[:8] #ispis y-koordinata za prvih sedam tocaka (tzv. slicing)"
   ]
  },
  {
   "cell_type": "code",
   "execution_count": 6,
   "metadata": {
    "scrolled": true
   },
   "outputs": [
    {
     "data": {
      "text/plain": [
       "[<matplotlib.lines.Line2D at 0x2b2f8958828>]"
      ]
     },
     "execution_count": 6,
     "metadata": {},
     "output_type": "execute_result"
    },
    {
     "data": {
      "image/png": "[encoded data removed]",
      "text/plain": [
       "<Figure size 432x288 with 1 Axes>"
      ]
     },
     "metadata": {
      "needs_background": "light"
     },
     "output_type": "display_data"
    }
   ],
   "source": [
    "plt.plot(x,y)"
   ]
  },
  {
   "cell_type": "code",
   "execution_count": 7,
   "metadata": {},
   "outputs": [
    {
     "name": "stdout",
     "output_type": "stream",
     "text": [
      "0.5\n",
      "3.9000000000000004\n"
     ]
    }
   ],
   "source": [
    "#nultocke kvadratne funkcije pomocu uvjetne neredbe\n",
    "for i in range(len(y)):\n",
    "    if abs(y[i])<0.25:\n",
    "        print(x[i])"
   ]
  },
  {
   "cell_type": "markdown",
   "metadata": {},
   "source": [
    "Nultočke kvadratne funkcije se mogu izravno tražiti prema sljedećoj formuli:  \n",
    "$$x_{1,2}=\\frac{-b\\pm\\sqrt{b^2-4ac}}{(2a)}$$ \n",
    "Rješenja jednadžbe su realni brojevi ako je zadovoljeno sljedeće $a\\neq0$ i diskriminanta $d>0$. Ispod je napisana funkcija koja daje rješenje samo u slučaju kad su nultočke realni brojevi (u protivnom se dobije error).  \n",
    "Pozivanjem naredbi iz modula *plt* se mogu dodati nultočke na graf te ga urediti pojašnjenjima i estetskih doradama. Traženje nultočki kvadratne jednadžbe je korisno za dobivanje vlastitih frekvencija sustava s dva stupnja slobode."
   ]
  },
  {
   "cell_type": "code",
   "execution_count": 8,
   "metadata": {},
   "outputs": [],
   "source": [
    "import math #uvodenje modula radi racunanja korijena diskriminante\n",
    "def nultocke(a,b,c):\n",
    "    d = b**2 - 4*a*c #diskriminanta\n",
    "    nultocka_1 = (- b - math.sqrt(d))/(2*a)\n",
    "    nultocka_2 = (- b + math.sqrt(d))/(2*a)\n",
    "    return (nultocka_1,nultocka_2)"
   ]
  },
  {
   "cell_type": "code",
   "execution_count": 9,
   "metadata": {},
   "outputs": [
    {
     "data": {
      "text/plain": [
       "(0.5304440742792808, 3.881320631603072)"
      ]
     },
     "execution_count": 9,
     "metadata": {},
     "output_type": "execute_result"
    }
   ],
   "source": [
    "nultocke(a,b,c)"
   ]
  },
  {
   "cell_type": "code",
   "execution_count": 10,
   "metadata": {},
   "outputs": [
    {
     "data": {
      "image/png": "[encoded data removed]",
      "text/plain": [
       "<Figure size 432x288 with 1 Axes>"
      ]
     },
     "metadata": {
      "needs_background": "light"
     },
     "output_type": "display_data"
    }
   ],
   "source": [
    "plt.plot(x,y,\n",
    "         label=f\"{a}*x*x+{b}*x+{c}*x\", #tzv. f-string sintaksa za ispis parametara a,b,c\n",
    "         color=\"green\") \n",
    "plt.scatter(nultocke(a,b,c),[0,0],\n",
    "            label=f\"nultocke za parametre a={a},b={b},c={c}\", #tzv. f-string sintaksa za ispis parametara a,b,c\n",
    "            color=\"red\") \n",
    "plt.title(\"Kvadratna funkcija\")\n",
    "plt.xlabel(\"x - os\")\n",
    "plt.ylabel(\"y - os\")\n",
    "plt.grid() #raster horizontalnih i vertikalnih linija\n",
    "plt.legend()\n",
    "plt.show()"
   ]
  },
  {
   "cell_type": "markdown",
   "metadata": {},
   "source": [
    "Podaci za plotanje se mogu nalaziti i u nekoj tablici - npr. digitalni zapis x i y komponenti potresa preuzet s web-a.\n",
    "\n",
    "https://github.com/Ivan768/Dinamika-konstrukcija/blob/main/elcentro.dat"
   ]
  },
  {
   "cell_type": "code",
   "execution_count": 11,
   "metadata": {},
   "outputs": [],
   "source": [
    "#load csv lokalno\n",
    "#load csv online\n",
    "#plt.plot"
   ]
  },
  {
   "cell_type": "markdown",
   "metadata": {},
   "source": [
    "### Slobodne neprigušene oscilacije materijalne čestice\n",
    "Traži se rješenje diferencijalne jednadžbe koja opisuje gibanje materijalne čestice nakon pomicanja iz ravnotežnog položaja:  \n",
    "\n",
    "$$m\\ddot{x}+kx=0 \\tag{1}$$  \n",
    "\n",
    "Ovakvo gibanje se zove slobodno neprigušeno osciliranje te se sastoji od inercijalne sile $m\\ddot{x}$ i elastične sile $kx$. Ranije (davno) je pronađeno rješenje koje zadovoljava gornju jednadžbu:  \n",
    "\n",
    "$$x=A\\cos{\\omega t}+B\\sin{\\omega t} \\tag{2}$$  \n",
    "\n",
    "gdje je $\\omega = \\sqrt{\\frac{k}{m}}$;  \n",
    "\n",
    "Radi provjere ispravnosti rješenja $x$ se uvrsti u jednadžbu (1) koja se može zapisati kao $\\ddot{x}+\\omega^2 x=0$. Prvo se izračuna druga derivacija od $x$ pa se onda može napraviti provjera:  \n",
    "  \n",
    "$$\\dot{x}=-A\\omega\\sin{\\omega t}+B\\omega\\cos{\\omega t} \\tag{3}$$  \n",
    "  \n",
    "$$\\ddot{x}=-A\\omega^2\\cos{\\omega t}-B\\omega^2\\sin{\\omega t}=-\\omega^2 (A\\cos{\\omega t}+B\\sin{\\omega t}) \\tag{4}$$\n",
    "  \n",
    "$$\\\\-\\omega^2 x + \\omega^2 x = 0 \\tag{5}$$\n",
    "  \n",
    "Obzirom da je jednakost u jednadžbi (5) zadovoljena, pokazano je da rješenje (2) zadovoljava jednadžbu (1). Parametri gibanja $A$ i $B$ se mogu dobiti pomoću rubnih uvjeta:  \n",
    "$x=x_0$ prema jednadžbi (2) iz čega se dobije $A=x_0$  \n",
    "$\\dot{x_0}=\\dot{x_0}$ prema jednadžbi (3) iz čega se dobije $B=\\frac{v_0}{\\omega}$  \n",
    "gdje su početni početni položaj $x_0$, početna brzina $v_0$ i kružna frekvencija $\\omega$ poznate veličine.  \n",
    "Rješenje diferencijalne jednadžbe se sada može zapisati na sljedeći način:\n",
    "\n",
    "$$x=x_0 \\cos{\\omega t}+\\frac{v_0}{\\omega} \\sin{\\omega t} \\tag{6}$$"
   ]
  },
  {
   "cell_type": "code",
   "execution_count": 12,
   "metadata": {},
   "outputs": [],
   "source": [
    "def slobodne_neprigusene(t,x_0,v_0): #jednadzba polozaja ovisna o vremenu t i pocetnim uvjetima\n",
    "    return x_0*math.cos(omega*t)+(v_0/omega)*math.sin(omega*t)"
   ]
  },
  {
   "cell_type": "markdown",
   "metadata": {},
   "source": [
    "UBACITI SVOJU SLIKU NA GITHUB\n",
    "\n",
    "<img src=\"https://static.cambridge.org/binary/version/id/urn:cambridge.org:id:binary:20171213112855424-0593:9781316761403:fig2_1.png?pub-status=live\">\n",
    "izvor:   \n",
    "\n",
    "https://static.cambridge.org/binary/version/id/urn:cambridge.org:id:binary:20171213112855424-0593:9781316761403:fig2_1.png?pub-status=live\n",
    "\n",
    "Potrebno je prikazati gibanje materijalne čestice za primjer na slici, s time da se prigušenje $c$ i vanjska sila $p(t)$ mogu ZANEMARITI! Parametri i početni uvjeti su zadani ispod."
   ]
  },
  {
   "cell_type": "code",
   "execution_count": 13,
   "metadata": {},
   "outputs": [],
   "source": [
    "#definicija parametara u SI mjernim jedinicama\n",
    "k = 7000 #krutost opruge u [N/m] (ovdje može biti aksijalna ili savojna krutost stapa)\n",
    "m = 2500 #masa materijalne cestice u [kg] (ovdje može biti masa objesena na kraj stapa)\n",
    "omega = math.sqrt(k/m) #kruzna frekvencija\n",
    "x_0 = 0.00 #pocetni polozaj u [m]\n",
    "v_0 = -0.08 #pocetna brzina u [m/s]"
   ]
  },
  {
   "cell_type": "markdown",
   "metadata": {},
   "source": [
    "Definirana je funkcija koja opisuje gibanje materijalne čestice ovisno o vremenu i definirani su parametri $k$ i $m$ iz čega slijedi $\\omega$. Početni uvjeti položaja i brzine su dani kao $x_0$ i $v_0$. Sada se položaj materijalne čestice ovisno o vremenu može pokazati na grafu (plotu) jednakim postupkom kao ranije. Razmatrati će se prvih 10 sekundi u vremenskim koracima od 0.1 s odnosno $x=[0.0 s,10.0 s⟩$"
   ]
  },
  {
   "cell_type": "code",
   "execution_count": 14,
   "metadata": {},
   "outputs": [],
   "source": [
    "vrijeme = [] \n",
    "polozaj = [] \n",
    "for i in range(100):\n",
    "    vrijeme.append(i*0.1) \n",
    "    polozaj.append(slobodne_neprigusene(i*0.1,x_0,v_0)) "
   ]
  },
  {
   "cell_type": "code",
   "execution_count": 15,
   "metadata": {},
   "outputs": [
    {
     "data": {
      "image/png": "[encoded data removed]",
      "text/plain": [
       "<Figure size 432x288 with 1 Axes>"
      ]
     },
     "metadata": {
      "needs_background": "light"
     },
     "output_type": "display_data"
    }
   ],
   "source": [
    "plt.plot(vrijeme,polozaj, label=\"oscilacije\")\n",
    "T = 2*math.pi/omega\n",
    "plt.plot([0,T],[0,0], label=\"period T\")\n",
    "plt.title(\"Slobodne neprigušene oscilacije materijalne čestice\")\n",
    "plt.xlabel(\"vrijeme t u [s]\")\n",
    "plt.ylabel(\"polozaj cestice u [m]\")\n",
    "plt.grid()\n",
    "plt.legend()\n",
    "plt.show()"
   ]
  },
  {
   "cell_type": "markdown",
   "metadata": {},
   "source": [
    "Gibanje materijalne točke..  \n",
    "interact... \n",
    "OVO RADI SAMO U JUPYTERu\n",
    "interact u Spyder se radi: from matplotlib.widgets import Slider"
   ]
  },
  {
   "cell_type": "code",
   "execution_count": 16,
   "metadata": {},
   "outputs": [
    {
     "data": {
      "application/vnd.jupyter.widget-view+json": {
       "model_id": "f337fcbc17db4e59ba9547e6eacfd6c2",
       "version_major": 2,
       "version_minor": 0
      },
      "text/plain": [
       "interactive(children=(IntSlider(value=5, description='t', max=10), Output()), _dom_classes=('widget-interact',…"
      ]
     },
     "metadata": {},
     "output_type": "display_data"
    },
    {
     "data": {
      "text/plain": [
       "<function __main__.gibanje(t)>"
      ]
     },
     "execution_count": 16,
     "metadata": {},
     "output_type": "execute_result"
    }
   ],
   "source": [
    "from ipywidgets import interact\n",
    "\n",
    "L = 0.1 #pocetna duljina opruge/stapa\n",
    "def gibanje(t):\n",
    "    fig, ax = plt.subplots(1, 2, figsize=(16, 3))\n",
    "    ax[0].plot(vrijeme,polozaj,color='green')\n",
    "    ax[0].axvline(t,color='black')\n",
    "    ax[0].grid()\n",
    "    L_stvarni = L+slobodne_neprigusene(t,x_0,v_0)\n",
    "    ax[1].scatter(L_stvarni,0,s=1000) #s je velicina tocke\n",
    "    ax[1].plot([i/100*L_stvarni for i in range(1,100)],\n",
    "                [0.01*math.sin(i) for i in range(1,100)])\n",
    "    ax[1].axvline(L,color='black')\n",
    "    ax[1].set_xlim(0.0,0.15)\n",
    "    plt.show()\n",
    "\n",
    "interact(gibanje, t = (0,10))"
   ]
  },
  {
   "cell_type": "markdown",
   "metadata": {},
   "source": [
    "Analiza utjecaja početnih uvjeta na gibanje točke."
   ]
  },
  {
   "cell_type": "code",
   "execution_count": 17,
   "metadata": {
    "scrolled": true
   },
   "outputs": [
    {
     "data": {
      "application/vnd.jupyter.widget-view+json": {
       "model_id": "4549b4a4ac664f36a43e4ebd0f9ce3c5",
       "version_major": 2,
       "version_minor": 0
      },
      "text/plain": [
       "interactive(children=(IntSlider(value=1, description='x_0', max=3, min=-1), IntSlider(value=1, description='v_…"
      ]
     },
     "metadata": {},
     "output_type": "display_data"
    },
    {
     "data": {
      "text/plain": [
       "<function __main__.analiza(x_0, v_0)>"
      ]
     },
     "execution_count": 17,
     "metadata": {},
     "output_type": "execute_result"
    }
   ],
   "source": [
    "def analiza(x_0,v_0):\n",
    "    t = [] \n",
    "    polozaj = []\n",
    "    for i in range(100):\n",
    "        t.append(i*0.1)\n",
    "        polozaj.append(slobodne_neprigusene(i*0.1,x_0,v_0))\n",
    "    plt.plot(t,polozaj)\n",
    "    plt.ylim(-3,5)\n",
    "    plt.grid()\n",
    "\n",
    "interact(analiza, x_0 = (-1,3), v_0 = (-3,5))"
   ]
  },
  {
   "cell_type": "markdown",
   "metadata": {},
   "source": [
    "Završno... import numpy samo kao primjer  \n",
    "umjesto parova točaka.."
   ]
  }
 ],
 "metadata": {
  "kernelspec": {
   "display_name": "Python 3",
   "language": "python",
   "name": "python3"
  },
  "language_info": {
   "codemirror_mode": {
    "name": "ipython",
    "version": 3
   },
   "file_extension": ".py",
   "mimetype": "text/x-python",
   "name": "python",
   "nbconvert_exporter": "python",
   "pygments_lexer": "ipython3",
   "version": "3.7.1"
  }
 },
 "nbformat": 4,
 "nbformat_minor": 2
}
