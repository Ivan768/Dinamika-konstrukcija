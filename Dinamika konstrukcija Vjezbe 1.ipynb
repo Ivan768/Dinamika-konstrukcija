{
 "cells": [
  {
   "cell_type": "markdown",
   "metadata": {},
   "source": [
    "# Dinamika konstrukcija: Uvod u korištenje programskoga jezika Python\n",
    "Sveučilišni diplomski - Ljetni semestar akademske godine 2020/2021  \n",
    "Predavač: Ivan Hlača  \n",
    "email: ivan.hlaca@uniri.hr   \n",
    "soba G-338"
   ]
  },
  {
   "cell_type": "markdown",
   "metadata": {},
   "source": [
    "### Instalacija\n",
    "\n",
    "Programski jezik Python se može besplatno instalirati na web stranici https://www.anaconda.com/products/individual.\n",
    "Nakon završene instalacije, pokrene se Spyder (eng. integrated development environment - IDE) u kojemu se pišu tzv. skripte (eng. script). Pokretanjem skripti u Spyderu izvršavamo zadane naredbe u programskom jeziku Python."
   ]
  },
  {
   "cell_type": "markdown",
   "metadata": {},
   "source": [
    "Alternativno se može koristiti Jupyter, također iz Anaconda instalacije, bez značajnih razlika u sintaksi. Ove vježbe su pisane u tzv. Jupyter notebook-u."
   ]
  },
  {
   "cell_type": "markdown",
   "metadata": {},
   "source": [
    "### Tipovi podataka\n",
    "\n",
    "Tekstualni podaci se nazivaju *string*, ili skraćeno ***str***."
   ]
  },
  {
   "cell_type": "code",
   "execution_count": 1,
   "metadata": {},
   "outputs": [
    {
     "name": "stdout",
     "output_type": "stream",
     "text": [
      "Hello world\n"
     ]
    }
   ],
   "source": [
    "print(\"Hello world\")"
   ]
  },
  {
   "cell_type": "code",
   "execution_count": 2,
   "metadata": {},
   "outputs": [
    {
     "data": {
      "text/plain": [
       "str"
      ]
     },
     "execution_count": 2,
     "metadata": {},
     "output_type": "execute_result"
    }
   ],
   "source": [
    "type(\"Hello world\")"
   ]
  },
  {
   "cell_type": "code",
   "execution_count": 3,
   "metadata": {},
   "outputs": [],
   "source": [
    "#komentar se ne izvrsava u outputu"
   ]
  },
  {
   "cell_type": "markdown",
   "metadata": {},
   "source": [
    "Cijeli brojevi se nazivaju *integer*, ili skraćeno ***int***."
   ]
  },
  {
   "cell_type": "code",
   "execution_count": 4,
   "metadata": {},
   "outputs": [
    {
     "data": {
      "text/plain": [
       "4"
      ]
     },
     "execution_count": 4,
     "metadata": {},
     "output_type": "execute_result"
    }
   ],
   "source": [
    "broj = 2 #broj je tzv. varijabla\n",
    "broj + broj #varijable se mogu zbrajati"
   ]
  },
  {
   "cell_type": "code",
   "execution_count": 5,
   "metadata": {},
   "outputs": [
    {
     "data": {
      "text/plain": [
       "int"
      ]
     },
     "execution_count": 5,
     "metadata": {},
     "output_type": "execute_result"
    }
   ],
   "source": [
    "type(broj)"
   ]
  },
  {
   "cell_type": "markdown",
   "metadata": {},
   "source": [
    "Realni brojevi se nazivaju ***float***. Decimale se označavaju nakon decimalne točke (ne zareza)."
   ]
  },
  {
   "cell_type": "code",
   "execution_count": 6,
   "metadata": {},
   "outputs": [
    {
     "data": {
      "text/plain": [
       "float"
      ]
     },
     "execution_count": 6,
     "metadata": {},
     "output_type": "execute_result"
    }
   ],
   "source": [
    "pi = 3.14\n",
    "type(pi)"
   ]
  },
  {
   "cell_type": "code",
   "execution_count": 7,
   "metadata": {},
   "outputs": [
    {
     "data": {
      "text/plain": [
       "4.0"
      ]
     },
     "execution_count": 7,
     "metadata": {},
     "output_type": "execute_result"
    }
   ],
   "source": [
    "2.0+2.0"
   ]
  },
  {
   "cell_type": "markdown",
   "metadata": {},
   "source": [
    "Logički podaci ili ***Boolean*** se koriste za oznaku jednu od dvije mogućnosti poput da/ne ili True/False. \n",
    "Bitni su za **IF** naredbe."
   ]
  },
  {
   "cell_type": "code",
   "execution_count": 8,
   "metadata": {},
   "outputs": [
    {
     "data": {
      "text/plain": [
       "bool"
      ]
     },
     "execution_count": 8,
     "metadata": {},
     "output_type": "execute_result"
    }
   ],
   "source": [
    "type(True)"
   ]
  },
  {
   "cell_type": "code",
   "execution_count": 9,
   "metadata": {},
   "outputs": [
    {
     "data": {
      "text/plain": [
       "True"
      ]
     },
     "execution_count": 9,
     "metadata": {},
     "output_type": "execute_result"
    }
   ],
   "source": [
    "2+2 == 4"
   ]
  },
  {
   "cell_type": "markdown",
   "metadata": {},
   "source": [
    "Nizovi ili liste se nazivaju ***list***. Liste se mogu sastojat od ostalih tipova podataka. Individualni članovi liste se mogu prikazati pozivanjem pomoću indeksa (eng. indexing). Isto tako, indeksima se može odrediti raspon liste koji će se prikazati (eng. slicing) U svakom slučaju, indeksi moraju biti cijeli brojevi odnosno integeri. U Pythonu indeksi započinju od 0 dok u nekim drugim programskim jezicima počinju od 1."
   ]
  },
  {
   "cell_type": "code",
   "execution_count": 10,
   "metadata": {},
   "outputs": [
    {
     "data": {
      "text/plain": [
       "list"
      ]
     },
     "execution_count": 10,
     "metadata": {},
     "output_type": "execute_result"
    }
   ],
   "source": [
    "boje = [\"crvena\", \"zelena\", \"plava\"] #clanovi liste su stringovi\n",
    "type(boje)"
   ]
  },
  {
   "cell_type": "code",
   "execution_count": 11,
   "metadata": {},
   "outputs": [
    {
     "data": {
      "text/plain": [
       "'crvena'"
      ]
     },
     "execution_count": 11,
     "metadata": {},
     "output_type": "execute_result"
    }
   ],
   "source": [
    "#indexing\n",
    "boje[0] #indeks se upise u uglatu zagradu - kratice su AltGr+F i AltGr+G"
   ]
  },
  {
   "cell_type": "code",
   "execution_count": 12,
   "metadata": {},
   "outputs": [
    {
     "data": {
      "text/plain": [
       "'plava'"
      ]
     },
     "execution_count": 12,
     "metadata": {},
     "output_type": "execute_result"
    }
   ],
   "source": [
    "indeks = 2\n",
    "boje[indeks]"
   ]
  },
  {
   "cell_type": "code",
   "execution_count": 13,
   "metadata": {},
   "outputs": [
    {
     "data": {
      "text/plain": [
       "list"
      ]
     },
     "execution_count": 13,
     "metadata": {},
     "output_type": "execute_result"
    }
   ],
   "source": [
    "znamenke = [0,1,2,3,4,5,6,7,8,9] #clanovi liste su integeri\n",
    "type(znamenke)"
   ]
  },
  {
   "cell_type": "code",
   "execution_count": 14,
   "metadata": {},
   "outputs": [
    {
     "data": {
      "text/plain": [
       "[1, 2, 3, 4]"
      ]
     },
     "execution_count": 14,
     "metadata": {},
     "output_type": "execute_result"
    }
   ],
   "source": [
    "znamenke[1:5] #slicing\n",
    "#zadnji indeks nije ukljucen u ispis"
   ]
  },
  {
   "cell_type": "code",
   "execution_count": 15,
   "metadata": {},
   "outputs": [
    {
     "data": {
      "text/plain": [
       "10"
      ]
     },
     "execution_count": 15,
     "metadata": {},
     "output_type": "execute_result"
    }
   ],
   "source": [
    "len(znamenke) #naredba len na listi nam daje duljinu liste"
   ]
  },
  {
   "cell_type": "markdown",
   "metadata": {},
   "source": [
    "### Algoritmi: Iteracije i uvjeti"
   ]
  },
  {
   "cell_type": "markdown",
   "metadata": {},
   "source": [
    "Iteracija se poziva naredbom **FOR**. U pseudokodu bi FOR naredba (petlja) glasila: *Za svaki član liste izvrši naredbe.* "
   ]
  },
  {
   "cell_type": "code",
   "execution_count": 16,
   "metadata": {},
   "outputs": [
    {
     "name": "stdout",
     "output_type": "stream",
     "text": [
      "crvena\n",
      "zelena\n",
      "plava\n"
     ]
    }
   ],
   "source": [
    "for boja in boje: #u redu nakon naredbe for se mora pustiti 3 prazna mjesta ili tab\n",
    "    print(boja) "
   ]
  },
  {
   "cell_type": "markdown",
   "metadata": {},
   "source": [
    "Uvjetna naredba ili naredba grananja (eng. branching) se poziva naredbom **IF**. U pseudokodu bi IF petlja glasila:\n",
    "*Ako je uvjet zadovoljen onda izvrši naredbu.*"
   ]
  },
  {
   "cell_type": "code",
   "execution_count": 17,
   "metadata": {},
   "outputs": [
    {
     "name": "stdout",
     "output_type": "stream",
     "text": [
      "0 je parni broj\n",
      "1 nije parni broj\n",
      "2 je parni broj\n",
      "3 nije parni broj\n",
      "4 je parni broj\n",
      "5 nije parni broj\n",
      "6 je parni broj\n",
      "7 nije parni broj\n",
      "8 je parni broj\n",
      "9 nije parni broj\n"
     ]
    }
   ],
   "source": [
    "#peracija modularnog dijeljenja tj. cjelobrojnog ostatka dijeljenja se označava s %\n",
    "#npr. 5%2=1\n",
    "for i in znamenke: #petlja\n",
    "    if i%2 == 0: #uvjet\n",
    "    #u redu nakon naredbe if se mora pustiti (dodatna) 3 prazna mjesta ili tab\n",
    "        print(f\"{i} je parni broj\") #f prije navodnika i varijabla u viticaste zagrade\n",
    "    else:\n",
    "        print(f\"{i} nije parni broj\")"
   ]
  },
  {
   "cell_type": "markdown",
   "metadata": {},
   "source": [
    "U nastavku je prikazano neobično ponašanje float brojeva. Potrebno je pripaziti ukoliko se float varijabla, poput x u donjem primjeru, koristi u uvjetu jednakosti od IF funkcije."
   ]
  },
  {
   "cell_type": "code",
   "execution_count": 18,
   "metadata": {},
   "outputs": [
    {
     "name": "stdout",
     "output_type": "stream",
     "text": [
      "0.9999999999999999 nije 1.0\n"
     ]
    }
   ],
   "source": [
    "x = 0.0\n",
    "for i in znamenke:\n",
    "    x = x + 0.1 #alternativna sintaksa x += 0.1\n",
    "    #print(x) #izbrisati prvi hash za pregled x varijable u razlicitim koracima\n",
    "\n",
    "if x == 1.0:\n",
    "    print(f'{x} = 1.0') #ocekivani rezultat\n",
    "else:\n",
    "    print(f'{x} nije 1.0') #test"
   ]
  },
  {
   "cell_type": "markdown",
   "metadata": {},
   "source": [
    "Postoji i **WHILE** naredba (petlja) koja je slična **IF** naredbi, a najčešće se koristi za rekurziju. Može se koristiti u slučaju kada je iteracija naredbi sve do ispunjenja nekog uvjeta. Ispod je primjer računanja trećeg korijena prirodnog broja y. Algoritam nije efikasan jer provjerava redom svaki prirodni broj do ispunjenja uvjeta. Ovaj praktični pristup se može nazvati metodom pokušaja i pogreške."
   ]
  },
  {
   "cell_type": "code",
   "execution_count": 19,
   "metadata": {},
   "outputs": [
    {
     "name": "stdout",
     "output_type": "stream",
     "text": [
      "priblizni kubni korijen broja 1234567890 je 1073\n"
     ]
    }
   ],
   "source": [
    "y = 1234567890 #type(y) može biti integer tj. prirodni broj\n",
    "pokusaj = 0\n",
    "while pokusaj**3 < y: #pokusaj**3=pokusaj*pokusaj*pokusaj\n",
    "    pokusaj = pokusaj + 1\n",
    "if pokusaj**3 != y: #uvjet nejednakosti\n",
    "    print(f\"priblizni kubni korijen broja {y} je {pokusaj}\")\n",
    "else: #ako je zadovoljena jednakost\n",
    "    print(f\"kubni korijen broja {y} je {pokusaj}\")"
   ]
  },
  {
   "cell_type": "markdown",
   "metadata": {},
   "source": [
    "Alternativnih pristupi podrazumijevaju traženje nultočki kubne jednadžbe $y=f(x)=x^3$ pomoću numeričkih metoda bisekcije ili Newton-Raphsonovom metodom."
   ]
  },
  {
   "cell_type": "markdown",
   "metadata": {},
   "source": [
    "### Funkcije"
   ]
  },
  {
   "cell_type": "markdown",
   "metadata": {},
   "source": [
    "Funkcije omogućavaju jednostavno pozivanje koda. Primjerice gornji kod za traženje trećeg korijena se može prepisati u funkciju te koristiti istu kao naredbu u kalkulatoru."
   ]
  },
  {
   "cell_type": "code",
   "execution_count": 20,
   "metadata": {},
   "outputs": [],
   "source": [
    "def kubna_funkcija(x):\n",
    "    \"\"\"Ovo je mjesto za pojasnjenje koda. Pojasnjenja je pozeljno pisati, \n",
    "    ali nije nuzno. Pojasnjenje za ovu funkciju se poziva naredbom \n",
    "    print(kubna_funkcija.__doc__).\"\"\"\n",
    "    #u redu nakon naredbe def se mora pustiti 3 prazna mjesta ili tab\n",
    "    return x*x*x #ili x**3"
   ]
  },
  {
   "cell_type": "code",
   "execution_count": 21,
   "metadata": {},
   "outputs": [
    {
     "data": {
      "text/plain": [
       "125"
      ]
     },
     "execution_count": 21,
     "metadata": {},
     "output_type": "execute_result"
    }
   ],
   "source": [
    "kubna_funkcija(5)"
   ]
  },
  {
   "cell_type": "code",
   "execution_count": 22,
   "metadata": {},
   "outputs": [
    {
     "name": "stdout",
     "output_type": "stream",
     "text": [
      "Ovo je mjesto za pojasnjenje koda. Pojasnjenja je pozeljno pisati, \n",
      "    ali nije nuzno. Pojasnjenje za ovu funkciju se poziva naredbom \n",
      "    print(kubna_funkcija.__doc__).\n"
     ]
    }
   ],
   "source": [
    "print(kubna_funkcija.__doc__)"
   ]
  },
  {
   "cell_type": "code",
   "execution_count": 23,
   "metadata": {},
   "outputs": [
    {
     "name": "stdout",
     "output_type": "stream",
     "text": [
      "kubni korijen broja 125 je 5\n"
     ]
    }
   ],
   "source": [
    "def kubni_korijen(y):\n",
    "    pokusaj = 0\n",
    "    while pokusaj**3 < y:\n",
    "        pokusaj = pokusaj + 1\n",
    "    if pokusaj**3 != y:\n",
    "        print(f\"priblizni kubni korijen broja {y} je {pokusaj}\")\n",
    "    else:\n",
    "        print(f\"kubni korijen broja {y} je {pokusaj}\")\n",
    "kubni_korijen(125)"
   ]
  },
  {
   "cell_type": "markdown",
   "metadata": {},
   "source": [
    "#### Testiranje i debugiranje"
   ]
  },
  {
   "cell_type": "markdown",
   "metadata": {},
   "source": [
    "Što se dogodi ako kod ima grešku tj. error?\n",
    "- program se može izvršiti i dati odgovor koji ne mora biti točan\n",
    "- program se može vrtiti u nedogled što je veliki problem ukoliko ne razumijemo kompleksnost algoritma (eng. Computational complexity)\n",
    "- program se može srušiti i dati to do znanja Error porukom ili Not responding porukom"
   ]
  },
  {
   "cell_type": "code",
   "execution_count": 24,
   "metadata": {},
   "outputs": [
    {
     "name": "stdout",
     "output_type": "stream",
     "text": [
      "priblizni kubni korijen broja -8 je 0\n"
     ]
    }
   ],
   "source": [
    "kubni_korijen(-8)"
   ]
  },
  {
   "cell_type": "code",
   "execution_count": 25,
   "metadata": {},
   "outputs": [
    {
     "name": "stdout",
     "output_type": "stream",
     "text": [
      "kubni korijen broja 1881676371789154860897069 je 123456789\n"
     ]
    }
   ],
   "source": [
    "kubni_korijen(kubna_funkcija(123456789)) #trivijalni izracun traje dugo"
   ]
  },
  {
   "cell_type": "code",
   "execution_count": 26,
   "metadata": {},
   "outputs": [
    {
     "ename": "NameError",
     "evalue": "name 'osam' is not defined",
     "output_type": "error",
     "traceback": [
      "\u001b[1;31m---------------------------------------------------------------------------\u001b[0m",
      "\u001b[1;31mNameError\u001b[0m                                 Traceback (most recent call last)",
      "\u001b[1;32m<ipython-input-26-b32ca6b479cc>\u001b[0m in \u001b[0;36m<module>\u001b[1;34m\u001b[0m\n\u001b[1;32m----> 1\u001b[1;33m \u001b[0mkubni_korijen\u001b[0m\u001b[1;33m(\u001b[0m\u001b[0mosam\u001b[0m\u001b[1;33m)\u001b[0m\u001b[1;33m\u001b[0m\u001b[1;33m\u001b[0m\u001b[0m\n\u001b[0m",
      "\u001b[1;31mNameError\u001b[0m: name 'osam' is not defined"
     ]
    }
   ],
   "source": [
    "kubni_korijen(osam)"
   ]
  },
  {
   "cell_type": "markdown",
   "metadata": {},
   "source": [
    "Zadnji primjer je možda naizgled najgori error, ali u stvarnosti prvi primjer predstavlja najveću opasnost jer je često teško biti svjestan da uopće postoji error. Veliki dio poslova je danas automatiziran i greška takvog tipa postaje očita tek kod neželjenih posljedica.\n",
    "<br>\n",
    "Dobra praksa u testiranju i debugiranju je korištenje print funkcije za ispis pomoćnih varijabli što bi pomoglo npr. u inputu 18 \"neobično ponašanje float brojeva\", ali takav pristup za konkretnu grešku u zadnjoj naredbi nebi puno pomogao. \"NameError: name 'osam' is not defined\" znači da se poziva varijabla 'osam' koja nije definirana. U slučaju bilo kakvog errora je najbolje kopirati dobivanu poruku u Google i pronaći rješenje na nekom od foruma - npr. https://stackoverflow.com/."
   ]
  },
  {
   "cell_type": "markdown",
   "metadata": {},
   "source": [
    "### Literatura"
   ]
  },
  {
   "cell_type": "markdown",
   "metadata": {},
   "source": [
    "Introduction to Computation and Programming Using Python, Second Edition by John Guttag\n",
    "https://mitpress.mit.edu/books/introduction-computation-and-programming-using-python-second-edition"
   ]
  }
 ],
 "metadata": {
  "kernelspec": {
   "display_name": "Python 3",
   "language": "python",
   "name": "python3"
  },
  "language_info": {
   "codemirror_mode": {
    "name": "ipython",
    "version": 3
   },
   "file_extension": ".py",
   "mimetype": "text/x-python",
   "name": "python",
   "nbconvert_exporter": "python",
   "pygments_lexer": "ipython3",
   "version": "3.7.1"
  }
 },
 "nbformat": 4,
 "nbformat_minor": 2
}
