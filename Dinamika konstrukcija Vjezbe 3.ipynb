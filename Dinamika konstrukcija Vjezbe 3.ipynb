{
 "cells": [
  {
   "cell_type": "markdown",
   "metadata": {},
   "source": [
    "# Dinamika konstrukcija\n",
    "## Vježbe 3: Matrične operacije u programskome jeziku Python, problem svojstvenih vrijednosti kod oscilacija sistema s više stupnjeva slobode\n",
    "### Sveučilišni diplomski - Ljetni semestar akademske godine 2020/2021"
   ]
  },
  {
   "cell_type": "markdown",
   "metadata": {},
   "source": [
    "Predavač: Ivan Hlača;\n",
    "email: ivan.hlaca@uniri.hr;\n",
    "soba G-338"
   ]
  },
  {
   "cell_type": "markdown",
   "metadata": {},
   "source": [
    "### Matrične operacije"
   ]
  },
  {
   "cell_type": "markdown",
   "metadata": {},
   "source": [
    "Da bi se dobio matrični zapis potrebno je definirati listu u listi (eng. nested list). "
   ]
  },
  {
   "cell_type": "code",
   "execution_count": 1,
   "metadata": {},
   "outputs": [
    {
     "data": {
      "text/plain": [
       "[[5, 2], [7, -1], [1, -5]]"
      ]
     },
     "execution_count": 1,
     "metadata": {},
     "output_type": "execute_result"
    }
   ],
   "source": [
    "Ma = [[5,2],\n",
    "     [7,-1],\n",
    "     [1,-5]]\n",
    "Mb = [[2,3,1,4],\n",
    "      [2,-2,4,0]]\n",
    "Ma"
   ]
  },
  {
   "cell_type": "code",
   "execution_count": 2,
   "metadata": {},
   "outputs": [
    {
     "data": {
      "text/plain": [
       "3"
      ]
     },
     "execution_count": 2,
     "metadata": {},
     "output_type": "execute_result"
    }
   ],
   "source": [
    "len(Ma) #broj redova matrice A"
   ]
  },
  {
   "cell_type": "code",
   "execution_count": 3,
   "metadata": {},
   "outputs": [
    {
     "data": {
      "text/plain": [
       "2"
      ]
     },
     "execution_count": 3,
     "metadata": {},
     "output_type": "execute_result"
    }
   ],
   "source": [
    "len(Ma[0]) #broj stupaca matrice A"
   ]
  },
  {
   "cell_type": "markdown",
   "metadata": {},
   "source": [
    "Gornji zapis matrica preko liste u listi nije posebno praktičan za čitanje, matrice A i B su:\n",
    "$$M_a=\n",
    "\\begin{bmatrix}\n",
    "5 & 2\\\\\n",
    "7 & -1\\\\\n",
    "1 & -5\n",
    "\\end{bmatrix}$$\n",
    "$$M_b=\n",
    "\\begin{bmatrix}\n",
    "2 & 3 & 1 & 4\\\\\n",
    "2 & -2 & 4 & 0\n",
    "\\end{bmatrix}$$"
   ]
  },
  {
   "cell_type": "markdown",
   "metadata": {},
   "source": [
    "Funkcijom se može definirati množenje dvije matrice. $$M_c = M_a \\times M_b$$"
   ]
  },
  {
   "cell_type": "markdown",
   "metadata": {},
   "source": [
    "#### Množenje matrica"
   ]
  },
  {
   "cell_type": "code",
   "execution_count": 4,
   "metadata": {},
   "outputs": [
    {
     "data": {
      "text/plain": [
       "[[14, 11, 13, 20], [12, 23, 3, 28], [-8, 13, -19, 4]]"
      ]
     },
     "execution_count": 4,
     "metadata": {},
     "output_type": "execute_result"
    }
   ],
   "source": [
    "Mc = [[0,0,0,0],\n",
    "      [0,0,0,0],\n",
    "      [0,0,0,0]] #matrica C je inicijalizirana\n",
    "redovi_A = len(Ma)\n",
    "stupci_A = len(Ma[0])\n",
    "redovi_B = len(Mb)\n",
    "stupci_B = len(Mb[0])\n",
    "\n",
    "for i in range(redovi_A): \n",
    "    for j in range(stupci_B): \n",
    "        for k in range(redovi_B):\n",
    "            Mc[i][j] += Ma[i][k] * Mb[k][j] #mnozenje matrica\n",
    "\n",
    "Mc"
   ]
  },
  {
   "cell_type": "markdown",
   "metadata": {},
   "source": [
    "Ukoliko se dimenzije matrice C ne pripreme prema pravilima matričnog množenja onda program neće raditi i prikazati će se poruka: \"IndexError: list index out of range\". Inicijalizirati se može za broj stupaca i redaka koji ovisi o dimenzijama matrica A i B čime se generalizira postupak."
   ]
  },
  {
   "cell_type": "code",
   "execution_count": 5,
   "metadata": {},
   "outputs": [
    {
     "data": {
      "text/plain": [
       "[0, 0, 0, 0]"
      ]
     },
     "execution_count": 5,
     "metadata": {},
     "output_type": "execute_result"
    }
   ],
   "source": [
    "[0 for stupac in range(4)] #list comprehension sintaksa"
   ]
  },
  {
   "cell_type": "code",
   "execution_count": 6,
   "metadata": {},
   "outputs": [
    {
     "data": {
      "text/plain": [
       "[[0, 0, 0, 0], [0, 0, 0, 0], [0, 0, 0, 0]]"
      ]
     },
     "execution_count": 6,
     "metadata": {},
     "output_type": "execute_result"
    }
   ],
   "source": [
    " [[0 for stupac in range(4)] for red in range(3)] #list comprehension sintaksa"
   ]
  },
  {
   "cell_type": "code",
   "execution_count": 7,
   "metadata": {},
   "outputs": [
    {
     "data": {
      "text/plain": [
       "True"
      ]
     },
     "execution_count": 7,
     "metadata": {},
     "output_type": "execute_result"
    }
   ],
   "source": [
    "br_stupaca=4\n",
    "br_redaka=3\n",
    "inicijalizacija= [[0 for stupac in range(br_stupaca)] for red in range(br_redaka)]\n",
    "inicijalizacija == [[0,0,0,0],\n",
    "                    [0,0,0,0],\n",
    "                    [0,0,0,0]] #potvrda jednakosti"
   ]
  },
  {
   "cell_type": "code",
   "execution_count": 8,
   "metadata": {},
   "outputs": [
    {
     "data": {
      "text/plain": [
       "[[14, 11, 13, 20], [12, 23, 3, 28], [-8, 13, -19, 4]]"
      ]
     },
     "execution_count": 8,
     "metadata": {},
     "output_type": "execute_result"
    }
   ],
   "source": [
    "def matricno_mnozenje(A,B):\n",
    "    redovi_A = len(A)\n",
    "    stupci_A = len(A[0])\n",
    "    redovi_B = len(B)\n",
    "    stupci_B = len(B[0])\n",
    "    if stupci_A != redovi_B:\n",
    "        print(\"Matrice se ne mogu pomnoziti jer dimenzije ne odgovaraju.\")\n",
    "        return\n",
    "    C = [[0 for stupac in range(stupci_B)] for red in range(redovi_A)]\n",
    "    for i in range(redovi_A):\n",
    "        for j in range(stupci_B):\n",
    "            for k in range(redovi_B):                \n",
    "                C[i][j] += A[i][k] * B[k][j]\n",
    "    return C\n",
    "\n",
    "matricno_mnozenje(Ma,Mb)"
   ]
  },
  {
   "cell_type": "markdown",
   "metadata": {},
   "source": [
    "Kontrola Numpy modulom pomoću naredbe *matmul* (matrix multiplication) ili kraće *dot*. Funkcija *matricno_mnozenje* i *np.matmul* (ili *np.dot*) rade istu stvar te i jedna i druga funkcija može raditi na listama u listi (tj. nested listi) te na numpy array-u.   \n",
    "Definirati će se matrice $M_a$ i $M_b$ kao Numpy array tip podataka, npr. matrica Ma će se sada zvati M_a."
   ]
  },
  {
   "cell_type": "code",
   "execution_count": 9,
   "metadata": {},
   "outputs": [
    {
     "data": {
      "text/plain": [
       "array([[ 14,  11,  13,  20],\n",
       "       [ 12,  23,   3,  28],\n",
       "       [ -8,  13, -19,   4]])"
      ]
     },
     "execution_count": 9,
     "metadata": {},
     "output_type": "execute_result"
    }
   ],
   "source": [
    "import numpy as np\n",
    "M_a = np.array(Ma)\n",
    "M_b = np.array(Mb)\n",
    "M_c = np.dot(M_a,M_b)\n",
    "M_c"
   ]
  },
  {
   "cell_type": "code",
   "execution_count": 10,
   "metadata": {},
   "outputs": [
    {
     "data": {
      "text/plain": [
       "(3, 4)"
      ]
     },
     "execution_count": 10,
     "metadata": {},
     "output_type": "execute_result"
    }
   ],
   "source": [
    "M_c.shape"
   ]
  },
  {
   "cell_type": "code",
   "execution_count": 11,
   "metadata": {},
   "outputs": [
    {
     "data": {
      "text/plain": [
       "11"
      ]
     },
     "execution_count": 11,
     "metadata": {},
     "output_type": "execute_result"
    }
   ],
   "source": [
    "M_c[0,1] #razlika u sintaksi kod slicinga [][] -> [,]"
   ]
  },
  {
   "cell_type": "markdown",
   "metadata": {},
   "source": [
    "#### Transponiranje matrica   \n",
    "\n",
    "Transponiranje matrice je operacija koji matricu okreće oko njene glavne dijagonale. U nastavku je funkcija koja izvodi transponiranje zamjenom indeksa tzv. nested liste.\n",
    "\n",
    "$A → A^T$    \n",
    "$a_{i,j} → a_{j,i}$"
   ]
  },
  {
   "cell_type": "code",
   "execution_count": 12,
   "metadata": {},
   "outputs": [],
   "source": [
    "def transpo(matrica):\n",
    "    br_redova = len(matrica)\n",
    "    br_stupaca = len(matrica[0])\n",
    "    matrica_T = [[0 for stupac in range(br_redova)] for red in range(br_stupaca)]\n",
    "    for i in range(br_redova):\n",
    "        for j in range(br_stupaca):\n",
    "            matrica_T[j][i] = matrica[i][j]\n",
    "    return matrica_T"
   ]
  },
  {
   "cell_type": "code",
   "execution_count": 13,
   "metadata": {},
   "outputs": [
    {
     "data": {
      "text/plain": [
       "[[5, 7, 1], [2, -1, -5]]"
      ]
     },
     "execution_count": 13,
     "metadata": {},
     "output_type": "execute_result"
    }
   ],
   "source": [
    "transpo(Ma)"
   ]
  },
  {
   "cell_type": "markdown",
   "metadata": {},
   "source": [
    "Numpy modul ima naredbu za transponiranje *transpose* ili skraćeno *T*."
   ]
  },
  {
   "cell_type": "code",
   "execution_count": 14,
   "metadata": {
    "scrolled": true
   },
   "outputs": [
    {
     "data": {
      "text/plain": [
       "array([[ 5,  7,  1],\n",
       "       [ 2, -1, -5]])"
      ]
     },
     "execution_count": 14,
     "metadata": {},
     "output_type": "execute_result"
    }
   ],
   "source": [
    "M_a.T"
   ]
  },
  {
   "cell_type": "markdown",
   "metadata": {},
   "source": [
    "#### Determinanta matrice\n",
    "\n",
    "Determinanta se može tražiti samo za matrice s jednakim brojem stupaca i redaka. tj. kvadratne matrica. \n",
    "$$M_d=\n",
    "\\begin{bmatrix}\n",
    "1 & 2\\\\\n",
    "3 & 4\n",
    "\\end{bmatrix}$$\n",
    "$$ det M_d = 1\\cdot4 - 2\\cdot3=-2$$"
   ]
  },
  {
   "cell_type": "code",
   "execution_count": 15,
   "metadata": {},
   "outputs": [
    {
     "data": {
      "text/plain": [
       "-2.0000000000000004"
      ]
     },
     "execution_count": 15,
     "metadata": {},
     "output_type": "execute_result"
    }
   ],
   "source": [
    "M_d = np.array([[1,2],[3,4]])\n",
    "d = np.linalg.det(M_d)\n",
    "d"
   ]
  },
  {
   "cell_type": "markdown",
   "metadata": {},
   "source": [
    "#### Inverz matrica\n",
    "\n",
    "Inverz se može tražiti samo za neke kvadratne matrice odnosno tzv. regularne matrice. Množenjem matrice s vlastitim inverzom se dobije jedinična matrica $I$.\n",
    "\n",
    "$$ A^{-1} A = I $$\n",
    "\n",
    "Jedinična matrica ima vrijednosti 1 po glavnoj dijagonali, a izvan ima 0 (ili vrijednosti veoma blizu 0)."
   ]
  },
  {
   "cell_type": "code",
   "execution_count": 16,
   "metadata": {},
   "outputs": [
    {
     "data": {
      "text/plain": [
       "array([[1.00000000e+00, 1.11022302e-16],\n",
       "       [0.00000000e+00, 1.00000000e+00]])"
      ]
     },
     "execution_count": 16,
     "metadata": {},
     "output_type": "execute_result"
    }
   ],
   "source": [
    "M_d_inv = np.linalg.inv(M_d)\n",
    "np.dot(M_d,M_d_inv)"
   ]
  },
  {
   "cell_type": "markdown",
   "metadata": {},
   "source": [
    "### Problem svojstvenih vrijednosti  kod oscilacija sistema s više stupnjeva slobode"
   ]
  },
  {
   "cell_type": "markdown",
   "metadata": {},
   "source": [
    "Jednadžba oscilacija slobodnog neprigušenog sistema s **više stupnjeva slobode** je sljedeća:\n",
    "\n",
    "$$m\\ddot{u}+ku=0 \\tag{1}$$\n",
    "\n",
    "a rješenje jednadžbe je:\n",
    "\n",
    "$$u(t)=q_n(t)\\phi_n \\tag{2}$$\n",
    "\n",
    "gdje je $q_n(t)=A_n \\cos{\\omega_n t}+B_n \\sin{\\omega_n t}$\n",
    "\n",
    "Ako se rješenje (2) uvrsti u jednadžbu (1), dobije se sljedeći izraz:\n",
    "\n",
    "$$[-\\omega_n^2 m \\phi_n + k \\phi_n] q_n(t) = 0 \\tag{3}$$\n",
    "\n",
    "Izraz ima netrivijalno rješenje kada postoji gibanje ili drugim rječima $q_n(t)\\neq 0$ iz čega proizlazi da lijevi dio (3) mora biti jednak 0:\n",
    "\n",
    "$$-\\omega_n^2 m \\phi_n + k\\phi_n = 0  \\tag{4}$$\n",
    "\n",
    "što vrijedi samo u slučaju samo u slučaju kada je determinanta:\n",
    "\n",
    "$$|-\\omega^2*m+k|=0 \\tag{5}$$\n",
    "\n",
    "Takav problem se još zove i problem vlastitih vrijednosti ili *eigenvalue problem*. Prirodne frekvencije $\\omega^2_n$ se nazivaju *eigenvalues*.  \n",
    "Uvrštavanjem prirodnih frekvencija u jednadžbu (4) se dobiju vlastiti oblici (vektori) ili *eigenvectors*."
   ]
  },
  {
   "cell_type": "markdown",
   "metadata": {},
   "source": [
    "#### Primjer 1.\n",
    "\n",
    "Razmatra se primjer Example 10.4 iz knjige Dynamics of Structures (Chopra).\n",
    "\n",
    "<img src=\"https://github.com/Ivan768/Dinamika-konstrukcija/blob/main/Primjer_10_4.png\">"
   ]
  },
  {
   "cell_type": "markdown",
   "metadata": {},
   "source": [
    "#### Postupak pomoću modula Sympy - korak po korak\n",
    "\n",
    "Sympy je modul u Pythonu koji služi za simboličko računanje odnosno računanje s nepoznanicama.   \n",
    "Postupak u nastavku služi kao podsjetnik na potrebne korake za izračun prirodnih frekvencija i vlastitih oblika. Nije preporučljivo koristiti dani postupak jer je efikasan samo do 3 stupnja slobode."
   ]
  },
  {
   "cell_type": "code",
   "execution_count": 17,
   "metadata": {},
   "outputs": [],
   "source": [
    "#ispod su dvije naredbe za pregledniji ispis matematickih izraza (ne mora se koristiti)\n",
    "from sympy import init_printing\n",
    "init_printing() "
   ]
  },
  {
   "cell_type": "code",
   "execution_count": 18,
   "metadata": {},
   "outputs": [
    {
     "data": {
      "image/png": "[encoded data removed]",
      "text/latex": [
       "$$\\left[\\begin{matrix}3 k - 2 m \\omega^{2} & - k\\\\- k & k - m \\omega^{2}\\end{matrix}\\right]$$"
      ],
      "text/plain": [
       "⎡           2          ⎤\n",
       "⎢3⋅k - 2⋅m⋅ω      -k   ⎥\n",
       "⎢                      ⎥\n",
       "⎢                     2⎥\n",
       "⎣     -k       k - m⋅ω ⎦"
      ]
     },
     "execution_count": 18,
     "metadata": {},
     "output_type": "execute_result"
    }
   ],
   "source": [
    "from sympy import * #sintaksa nakon koje se ne mora pisati sympy prije naredbe\n",
    "omega = Symbol('omega',positive=True)\n",
    "masa,krutost = symbols('m k',positive=True)\n",
    "m = masa * np.array([[2,0],[0,1]])\n",
    "k = krutost * np.array([[3,-1],[-1,1]])\n",
    "jednadzba = Matrix(-m*omega**2+k)\n",
    "jednadzba"
   ]
  },
  {
   "cell_type": "code",
   "execution_count": 19,
   "metadata": {},
   "outputs": [
    {
     "data": {
      "image/png": "[encoded data removed]",
      "text/latex": [
       "$$- k^{2} + \\left(k - m \\omega^{2}\\right) \\left(3 k - 2 m \\omega^{2}\\right)$$"
      ],
      "text/plain": [
       "   2   ⎛       2⎞ ⎛           2⎞\n",
       "- k  + ⎝k - m⋅ω ⎠⋅⎝3⋅k - 2⋅m⋅ω ⎠"
      ]
     },
     "execution_count": 19,
     "metadata": {},
     "output_type": "execute_result"
    }
   ],
   "source": [
    "determinanta = jednadzba.det()\n",
    "determinanta"
   ]
  },
  {
   "cell_type": "code",
   "execution_count": 20,
   "metadata": {},
   "outputs": [
    {
     "data": {
      "image/png": "[encoded data removed]",
      "text/latex": [
       "$$\\left [ \\frac{\\sqrt{2} \\sqrt{k}}{2 \\sqrt{m}}, \\quad \\frac{\\sqrt{2} \\sqrt{k}}{\\sqrt{m}}\\right ]$$"
      ],
      "text/plain": [
       "⎡√2⋅√k  √2⋅√k⎤\n",
       "⎢─────, ─────⎥\n",
       "⎣ 2⋅√m    √m ⎦"
      ]
     },
     "execution_count": 20,
     "metadata": {},
     "output_type": "execute_result"
    }
   ],
   "source": [
    "rjesenja = solve(determinanta,omega)\n",
    "omega_1 = rjesenja[0]\n",
    "omega_2 = rjesenja[1]\n",
    "rjesenja"
   ]
  },
  {
   "cell_type": "code",
   "execution_count": 21,
   "metadata": {},
   "outputs": [],
   "source": [
    "u_1,u_2 = symbols('u_1 u_2')"
   ]
  },
  {
   "cell_type": "code",
   "execution_count": 22,
   "metadata": {},
   "outputs": [
    {
     "data": {
      "image/png": "[encoded data removed]",
      "text/latex": [
       "$$\\left[\\begin{matrix}2 k u_{1} - k u_{2}\\\\- k u_{1} + \\frac{k u_{2}}{2}\\end{matrix}\\right]$$"
      ],
      "text/plain": [
       "⎡2⋅k⋅u₁ - k⋅u₂⎤\n",
       "⎢             ⎥\n",
       "⎢        k⋅u₂ ⎥\n",
       "⎢-k⋅u₁ + ──── ⎥\n",
       "⎣         2   ⎦"
      ]
     },
     "execution_count": 22,
     "metadata": {},
     "output_type": "execute_result"
    }
   ],
   "source": [
    "uvjet_1 = jednadzba.subs(omega,omega_1)*Matrix([u_1,u_2]) #uvjet za 1. oblik\n",
    "uvjet_1"
   ]
  },
  {
   "cell_type": "code",
   "execution_count": 23,
   "metadata": {},
   "outputs": [
    {
     "data": {
      "image/png": "[encoded data removed]",
      "text/latex": [
       "$$\\left[\\begin{matrix}- k u_{1} - k u_{2}\\\\- k u_{1} - k u_{2}\\end{matrix}\\right]$$"
      ],
      "text/plain": [
       "⎡-k⋅u₁ - k⋅u₂⎤\n",
       "⎢            ⎥\n",
       "⎣-k⋅u₁ - k⋅u₂⎦"
      ]
     },
     "execution_count": 23,
     "metadata": {},
     "output_type": "execute_result"
    }
   ],
   "source": [
    "uvjet_2 = jednadzba.subs(omega,omega_2)*Matrix([u_1,u_2]) #uvjet za 2. oblik\n",
    "uvjet_2"
   ]
  },
  {
   "cell_type": "code",
   "execution_count": 24,
   "metadata": {},
   "outputs": [
    {
     "data": {
      "image/png": "[encoded data removed]",
      "text/latex": [
       "$$\\left \\{ u_{1} : \\frac{u_{2}}{2}\\right \\}$$"
      ],
      "text/plain": [
       "⎧    u₂⎫\n",
       "⎨u₁: ──⎬\n",
       "⎩    2 ⎭"
      ]
     },
     "execution_count": 24,
     "metadata": {},
     "output_type": "execute_result"
    }
   ],
   "source": [
    "solve(uvjet_1,[u_1,u_2]) #1. oblik"
   ]
  },
  {
   "cell_type": "code",
   "execution_count": 25,
   "metadata": {},
   "outputs": [
    {
     "data": {
      "image/png": "[encoded data removed]",
      "text/latex": [
       "$$\\left \\{ u_{1} : - u_{2}\\right \\}$$"
      ],
      "text/plain": [
       "{u₁: -u₂}"
      ]
     },
     "execution_count": 25,
     "metadata": {},
     "output_type": "execute_result"
    }
   ],
   "source": [
    "solve(uvjet_2,[u_1,u_2]) #2. oblik"
   ]
  },
  {
   "cell_type": "markdown",
   "metadata": {},
   "source": [
    "#### Postupak pomoću modula Scipy\n",
    "\n",
    "Postupak u nastavku je efikasan i za veći broj stupnjeva sloboda. Preporuka je koristiti ovaj postupak. Naredba *eigh*, za razliku od *eig*, daje uvijek realna rješenja.\n",
    "Materijalni i geometrijski parametri su sljedeći:   \n",
    "\n",
    "$$m = 50 000 kg $$   \n",
    "\n",
    "$$h = 4 m $$ \n",
    "\n",
    "$$E = 30 x 10^9 N/m^2 $$   \n",
    "\n",
    "$$I = 10^{-5} m^4 $$   \n",
    "\n",
    "A krutost je dobivena metodom deformacija (kolegij GS2) i iznosi:   \n",
    "\n",
    "$$k = 24 E I / h^3$$\n"
   ]
  },
  {
   "cell_type": "code",
   "execution_count": 26,
   "metadata": {},
   "outputs": [],
   "source": [
    "from scipy.linalg import eigh"
   ]
  },
  {
   "cell_type": "code",
   "execution_count": 27,
   "metadata": {},
   "outputs": [],
   "source": [
    "m = 50000.  #proizvoljna numerička vrijednost\n",
    "h = 4.0   #visina kata -proizvoljna numerička vrijednost\n",
    "E = 30 * 10**9 #modul elasticnosti -proizvoljna numerička vrijednost\n",
    "I = 10**(-5) #moment inercije -proizvoljna numerička vrijednost\n",
    "k = 24*E*I/h**3 #krutost u primjeru\n",
    "\n",
    "m_matrica = m * np.array([[2,0],[0,1]])\n",
    "k_matrica = k * np.array([[3,-1],[-1,1]])\n",
    "\n",
    "w , v = eigh(k_matrica,m_matrica)"
   ]
  },
  {
   "cell_type": "markdown",
   "metadata": {},
   "source": [
    "Postupak *eigh* daje karakterističnu vrijednost $\\lambda$, a obzirom da je $\\lambda=\\omega^2$ prirodne frekvencije dobijemo kao korijen od varijable w."
   ]
  },
  {
   "cell_type": "code",
   "execution_count": 28,
   "metadata": {},
   "outputs": [
    {
     "data": {
      "text/plain": [
       "array([1.06066017, 2.12132034])"
      ]
     },
     "execution_count": 28,
     "metadata": {},
     "output_type": "execute_result"
    }
   ],
   "source": [
    "omega = np.sqrt(w) #prirodne frekvencije\n",
    "omega"
   ]
  },
  {
   "cell_type": "code",
   "execution_count": 29,
   "metadata": {},
   "outputs": [
    {
     "data": {
      "text/plain": [
       "array([[-0.00182574, -0.00258199],\n",
       "       [-0.00365148,  0.00258199]])"
      ]
     },
     "execution_count": 29,
     "metadata": {},
     "output_type": "execute_result"
    }
   ],
   "source": [
    "v #vlastiti oblici"
   ]
  },
  {
   "cell_type": "code",
   "execution_count": 30,
   "metadata": {
    "scrolled": true
   },
   "outputs": [
    {
     "data": {
      "text/plain": [
       "array([0.5, 1. ])"
      ]
     },
     "execution_count": 30,
     "metadata": {},
     "output_type": "execute_result"
    }
   ],
   "source": [
    "#normaliziranje vektora da bi se dobila jedinica na poziciji 2\n",
    "phi_1 = v[:,0]/v[1,0] \n",
    "phi_1 #1. oblik"
   ]
  },
  {
   "cell_type": "code",
   "execution_count": 31,
   "metadata": {},
   "outputs": [
    {
     "data": {
      "text/plain": [
       "array([-1.,  1.])"
      ]
     },
     "execution_count": 31,
     "metadata": {},
     "output_type": "execute_result"
    }
   ],
   "source": [
    "#normaliziranje vektora da bi se dobila jedinica na poziciji 2\n",
    "phi_2 = v[:,1]/v[1,1]\n",
    "phi_2 #1. oblik"
   ]
  },
  {
   "cell_type": "markdown",
   "metadata": {},
   "source": [
    "#### Prikaz dobivenih oblika osciliranja\n",
    "\n",
    "Funkcija za crtanje deformiranih stupova okvira je dana u nastavku.   \n",
    "NAPOMENA: Nije nuzno razumijeti kod da bi se koristio."
   ]
  },
  {
   "cell_type": "code",
   "execution_count": 32,
   "metadata": {},
   "outputs": [],
   "source": [
    "import matplotlib.pyplot as plt"
   ]
  },
  {
   "cell_type": "code",
   "execution_count": 33,
   "metadata": {},
   "outputs": [],
   "source": [
    "def stupovi_okvira(domena, u_1, u_2):\n",
    "    \"\"\"Funkcija sluzi za dobivanje x koordinata stupa deformiranog okvira.\n",
    "    Domena je numpy array koji se proteže po visini stupa h. Pomaci kata su\n",
    "    definirani kao u_1 i u_2. Progibna linije grede ili stupa za opterecenje\n",
    "    koncentriranom silom je krivulja 3. stupnja odnosno kubna funkcija. \n",
    "    Kubna funkcija se moze odrediti temeljem 4 tocke (x,y) na kubnoj funkciji. \n",
    "    Postupak u nastavku daje koeficijente koef (a,b,c,d) kubne funkcije koja \n",
    "    opisuje deformiranje stupa.\"\"\"\n",
    "    x1 , y1 = domena[0]             , u_1           \n",
    "    x2 , y2 = domena[0] + 10**(-5)  , u_1\n",
    "    x3 , y3 = domena[-1] - 10**(-5) , u_2 \n",
    "    x4 , y4 = domena[-1]            , u_2\n",
    "    y = np.array([y1,y2,y3,y4])\n",
    "    x = np.array([[x1**(3-i),x2**(3-i),x3**(3-i),x4**(3-i)] for i in range(4)]).T\n",
    "    x_inverz = np.linalg.inv(x)\n",
    "    koef = np.dot(x_inverz,y)\n",
    "    return np.poly1d(koef)"
   ]
  },
  {
   "cell_type": "markdown",
   "metadata": {},
   "source": [
    "U bloku koda u nastavku se mijenjanjem vlastitog vektora (oblika osciliranja) phi_2 u phi_1 može prikazati 1. oblik."
   ]
  },
  {
   "cell_type": "code",
   "execution_count": 34,
   "metadata": {
    "scrolled": true
   },
   "outputs": [
    {
     "data": {
      "image/png": "[encoded data removed]",
      "text/plain": [
       "<Figure size 432x288 with 1 Axes>"
      ]
     },
     "metadata": {
      "needs_background": "light"
     },
     "output_type": "display_data"
    }
   ],
   "source": [
    "u_0 = 0.0 #pomak temelja\n",
    "\n",
    "u_1 = phi_2[0] #pomak 1. kata\n",
    "u_2 = phi_2[1] #pomak 2. kata\n",
    "\n",
    "L = 7.0   #širina kata\n",
    "domena_dolje = np.arange(0.0,h,0.1)\n",
    "domena_gore = domena_dolje + h\n",
    "f_dolje = stupovi_okvira(domena_dolje,u_0,u_1)\n",
    "f_gore = stupovi_okvira(domena_gore,u_1,u_2)\n",
    "plt.plot(f_dolje(domena_dolje),domena_dolje,color=\"black\")  #lijevi stup 1. kata\n",
    "plt.plot(f_dolje(domena_dolje)+L,domena_dolje,color=\"black\")#lijevi stup 1. kata\n",
    "plt.plot(f_gore(domena_gore),domena_gore,color=\"black\")   #lijevi stup 2. kata\n",
    "plt.plot(f_gore(domena_gore)+L,domena_gore,color=\"black\") #lijevi stup 2. kata\n",
    "plt.plot([u_1,u_1+L],[h,h],color=\"black\") #greda 1. kata\n",
    "plt.plot([u_2,u_2+L],[2*h,2*h],color=\"black\") #greda 2. kata\n",
    "plt.show()"
   ]
  },
  {
   "cell_type": "markdown",
   "metadata": {},
   "source": [
    "#### Rubni uvjeti\n",
    "\n",
    "Parametri gibanja slobodnog neprigušenog sistema s više stupnjeva slobode se izračunaju uvrštavanjem rubnih uvjeta $u_0$ i $v_0$ u sljedeće jednadžbe:\n",
    "\n",
    "$$ A_i = \\frac{\\phi_i^T m u_0} {M_i} = q_n(0) \\tag{1}$$\n",
    "$$ B_i = \\frac{\\phi_i^T m v_0} {\\omega_i M_i} = \\dot{q_n}(0) \\tag{2}$$\n",
    "\n",
    "ili isto to u matričnom obliku:\n",
    "\n",
    "$$ A = M^{-1} \\Phi^T m u_0 \\tag{3}$$\n",
    "$$ B = \\Omega^{-1} M^{-1} \\Phi^T m v_0 \\tag{4}$$\n",
    "\n",
    "gdje je $\\Omega$ spektralna matrica, $\\Phi$ modalna matrica, a dijagonalna matrica masa $M=\\phi^T m \\phi$."
   ]
  },
  {
   "cell_type": "markdown",
   "metadata": {},
   "source": [
    "#### Primjer 2.\n",
    "\n",
    "Razmatra se primjer Example 10.11 iz knjige Dynamics of Structures (Chopra) koji se nastavlja na Primjer 1. (Example 10.4).\n",
    "\n",
    "<img src=\"https://github.com/Ivan768/Dinamika-konstrukcija/blob/main/Primjer_10_4.png\">\n",
    "\n",
    "Dani su sljedeći rubni uvjeti:\n",
    "$u(0) = \n",
    "\\begin{bmatrix}\n",
    "-0.5 \\\\\n",
    "2 \n",
    "\\end{bmatrix}$"
   ]
  },
  {
   "cell_type": "code",
   "execution_count": 35,
   "metadata": {},
   "outputs": [
    {
     "data": {
      "text/plain": [
       "array([-0.5,  2. ])"
      ]
     },
     "execution_count": 35,
     "metadata": {},
     "output_type": "execute_result"
    }
   ],
   "source": [
    "u0 = np.array([-0.5,2])\n",
    "v0 = np.array([0,0]) #brzina nije zadana jer brzine nema v0=0\n",
    "u0"
   ]
  },
  {
   "cell_type": "code",
   "execution_count": 36,
   "metadata": {},
   "outputs": [
    {
     "data": {
      "text/plain": [
       "array([[1.06066017, 0.        ],\n",
       "       [0.        , 2.12132034]])"
      ]
     },
     "execution_count": 36,
     "metadata": {},
     "output_type": "execute_result"
    }
   ],
   "source": [
    "#spektralna matrica\n",
    "spektralna = np.diag(omega) #diag za dijagonalnu matricu\n",
    "spektralna_inv = np.linalg.inv(spektralna)\n",
    "spektralna"
   ]
  },
  {
   "cell_type": "code",
   "execution_count": 37,
   "metadata": {},
   "outputs": [
    {
     "data": {
      "text/plain": [
       "array([[ 0.5, -1. ],\n",
       "       [ 1. ,  1. ]])"
      ]
     },
     "execution_count": 37,
     "metadata": {},
     "output_type": "execute_result"
    }
   ],
   "source": [
    "#modalna matrica\n",
    "modalna = np.array([phi_1,phi_2]).T \n",
    "#gore je dan postupak za svaki stupanj slobode zasebno\n",
    "#moze se generalizirati koristenjem varijable v (vlastiti vektor)\n",
    "modalna"
   ]
  },
  {
   "cell_type": "code",
   "execution_count": 38,
   "metadata": {},
   "outputs": [
    {
     "data": {
      "text/plain": [
       "array([[7.50000000e+04, 2.18278728e-11],\n",
       "       [2.18278728e-11, 1.50000000e+05]])"
      ]
     },
     "execution_count": 38,
     "metadata": {},
     "output_type": "execute_result"
    }
   ],
   "source": [
    "#M_1 = np.dot(phi_1.T,m_matrica).dot(phi_1)\n",
    "#M_2 = np.dot(phi_2.T,m_matrica).dot(phi_2)\n",
    "#gore je dan postupak za svaki stupanj slobode zasebno\n",
    "M = np.dot(modalna.T,m_matrica).dot(modalna)\n",
    "M_inv = np.linalg.inv(M)\n",
    "M"
   ]
  },
  {
   "cell_type": "code",
   "execution_count": 39,
   "metadata": {},
   "outputs": [
    {
     "data": {
      "text/plain": [
       "array([1., 1.])"
      ]
     },
     "execution_count": 39,
     "metadata": {},
     "output_type": "execute_result"
    }
   ],
   "source": [
    "#np.linalg.multi_dot za matricno mnozenje vise matrica\n",
    "A = np.linalg.multi_dot([ M_inv , modalna.T , m_matrica , u0 ])\n",
    "A"
   ]
  },
  {
   "cell_type": "code",
   "execution_count": 40,
   "metadata": {},
   "outputs": [
    {
     "data": {
      "text/plain": [
       "array([0., 0.])"
      ]
     },
     "execution_count": 40,
     "metadata": {},
     "output_type": "execute_result"
    }
   ],
   "source": [
    "B = np.linalg.multi_dot([ spektralna_inv , M_inv , modalna.T , m_matrica , v0 ])\n",
    "B"
   ]
  },
  {
   "cell_type": "markdown",
   "metadata": {},
   "source": [
    "$q_1(0)=1$ iz rjesenja A[0]   \n",
    "\n",
    "$q_2(0)=1$ iz rjesenja A[1]   \n",
    "\n",
    "$\\dot{q}_1(0)=0$ iz rjesenja B[0]   \n",
    "\n",
    "$\\dot{q}_2(0)=0$ iz rjesenja B[1]\n",
    "   \n",
    "Zadatak će se dovršiti na sljedećim vježbama."
   ]
  }
 ],
 "metadata": {
  "kernelspec": {
   "display_name": "Python 3",
   "language": "python",
   "name": "python3"
  },
  "language_info": {
   "codemirror_mode": {
    "name": "ipython",
    "version": 3
   },
   "file_extension": ".py",
   "mimetype": "text/x-python",
   "name": "python",
   "nbconvert_exporter": "python",
   "pygments_lexer": "ipython3",
   "version": "3.7.1"
  }
 },
 "nbformat": 4,
 "nbformat_minor": 2
}
